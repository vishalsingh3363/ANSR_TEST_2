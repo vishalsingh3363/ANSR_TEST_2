{
 "cells": [
  {
   "cell_type": "code",
   "execution_count": 1,
   "id": "0c37adbb",
   "metadata": {},
   "outputs": [],
   "source": [
    "import pandas as pd\n",
    "import matplotlib.pyplot as plt"
   ]
  },
  {
   "cell_type": "code",
   "execution_count": 4,
   "id": "b17c3159",
   "metadata": {},
   "outputs": [],
   "source": [
    "#Reading the dataset\n",
    "df = pd.read_csv('mobile_events_2020.csv', sep=';')"
   ]
  },
  {
   "cell_type": "code",
   "execution_count": 5,
   "id": "570f4be0",
   "metadata": {},
   "outputs": [
    {
     "data": {
      "text/html": [
       "<div>\n",
       "<style scoped>\n",
       "    .dataframe tbody tr th:only-of-type {\n",
       "        vertical-align: middle;\n",
       "    }\n",
       "\n",
       "    .dataframe tbody tr th {\n",
       "        vertical-align: top;\n",
       "    }\n",
       "\n",
       "    .dataframe thead th {\n",
       "        text-align: right;\n",
       "    }\n",
       "</style>\n",
       "<table border=\"1\" class=\"dataframe\">\n",
       "  <thead>\n",
       "    <tr style=\"text-align: right;\">\n",
       "      <th></th>\n",
       "      <th>anonymous_id</th>\n",
       "      <th>business_zoned</th>\n",
       "      <th>context_app_version</th>\n",
       "      <th>context_device_id</th>\n",
       "      <th>context_os_name</th>\n",
       "      <th>event_name</th>\n",
       "      <th>received_at</th>\n",
       "      <th>created_at</th>\n",
       "    </tr>\n",
       "  </thead>\n",
       "  <tbody>\n",
       "    <tr>\n",
       "      <th>0</th>\n",
       "      <td>9DDC5BCD-0477-4E83-A32A-51013DA0A4E7</td>\n",
       "      <td>Hamburg</td>\n",
       "      <td>3.1.13</td>\n",
       "      <td>7A718FF6-584F-40E2-939D-224231295B1E</td>\n",
       "      <td>iOS</td>\n",
       "      <td>Out-Of-Business Zone View Shown</td>\n",
       "      <td>2020-09-01 23:59:44</td>\n",
       "      <td>2020-09-01 23:59:18</td>\n",
       "    </tr>\n",
       "    <tr>\n",
       "      <th>1</th>\n",
       "      <td>5592E78E-CE87-4258-B8D7-DD834A687A1E</td>\n",
       "      <td>Hamburg</td>\n",
       "      <td>3.1.13</td>\n",
       "      <td>11D0CB16-DA38-4565-9C3B-066E7877856C</td>\n",
       "      <td>iOS</td>\n",
       "      <td>Application Opened</td>\n",
       "      <td>2020-09-01 23:59:41</td>\n",
       "      <td>2020-09-01 23:59:35</td>\n",
       "    </tr>\n",
       "    <tr>\n",
       "      <th>2</th>\n",
       "      <td>5592E78E-CE87-4258-B8D7-DD834A687A1E</td>\n",
       "      <td>Hamburg</td>\n",
       "      <td>3.1.13</td>\n",
       "      <td>11D0CB16-DA38-4565-9C3B-066E7877856C</td>\n",
       "      <td>iOS</td>\n",
       "      <td>Ride Done - Successful</td>\n",
       "      <td>2020-09-01 23:59:41</td>\n",
       "      <td>2020-09-01 23:59:37</td>\n",
       "    </tr>\n",
       "    <tr>\n",
       "      <th>3</th>\n",
       "      <td>5592E78E-CE87-4258-B8D7-DD834A687A1E</td>\n",
       "      <td>Hamburg</td>\n",
       "      <td>3.1.13</td>\n",
       "      <td>11D0CB16-DA38-4565-9C3B-066E7877856C</td>\n",
       "      <td>iOS</td>\n",
       "      <td>Application Opened</td>\n",
       "      <td>2020-09-01 23:59:36</td>\n",
       "      <td>2020-09-01 23:37:46</td>\n",
       "    </tr>\n",
       "    <tr>\n",
       "      <th>4</th>\n",
       "      <td>5592E78E-CE87-4258-B8D7-DD834A687A1E</td>\n",
       "      <td>Hamburg</td>\n",
       "      <td>3.1.13</td>\n",
       "      <td>11D0CB16-DA38-4565-9C3B-066E7877856C</td>\n",
       "      <td>iOS</td>\n",
       "      <td>Ride Done - Unsuccessful</td>\n",
       "      <td>2020-09-01 23:59:36</td>\n",
       "      <td>2020-09-01 23:37:52</td>\n",
       "    </tr>\n",
       "  </tbody>\n",
       "</table>\n",
       "</div>"
      ],
      "text/plain": [
       "                           anonymous_id business_zoned context_app_version  \\\n",
       "0  9DDC5BCD-0477-4E83-A32A-51013DA0A4E7        Hamburg              3.1.13   \n",
       "1  5592E78E-CE87-4258-B8D7-DD834A687A1E        Hamburg              3.1.13   \n",
       "2  5592E78E-CE87-4258-B8D7-DD834A687A1E        Hamburg              3.1.13   \n",
       "3  5592E78E-CE87-4258-B8D7-DD834A687A1E        Hamburg              3.1.13   \n",
       "4  5592E78E-CE87-4258-B8D7-DD834A687A1E        Hamburg              3.1.13   \n",
       "\n",
       "                      context_device_id context_os_name  \\\n",
       "0  7A718FF6-584F-40E2-939D-224231295B1E             iOS   \n",
       "1  11D0CB16-DA38-4565-9C3B-066E7877856C             iOS   \n",
       "2  11D0CB16-DA38-4565-9C3B-066E7877856C             iOS   \n",
       "3  11D0CB16-DA38-4565-9C3B-066E7877856C             iOS   \n",
       "4  11D0CB16-DA38-4565-9C3B-066E7877856C             iOS   \n",
       "\n",
       "                        event_name          received_at           created_at  \n",
       "0  Out-Of-Business Zone View Shown  2020-09-01 23:59:44  2020-09-01 23:59:18  \n",
       "1               Application Opened  2020-09-01 23:59:41  2020-09-01 23:59:35  \n",
       "2           Ride Done - Successful  2020-09-01 23:59:41  2020-09-01 23:59:37  \n",
       "3               Application Opened  2020-09-01 23:59:36  2020-09-01 23:37:46  \n",
       "4         Ride Done - Unsuccessful  2020-09-01 23:59:36  2020-09-01 23:37:52  "
      ]
     },
     "execution_count": 5,
     "metadata": {},
     "output_type": "execute_result"
    }
   ],
   "source": [
    "df.head()"
   ]
  },
  {
   "cell_type": "code",
   "execution_count": 6,
   "id": "1f0a2a3d",
   "metadata": {},
   "outputs": [
    {
     "data": {
      "text/plain": [
       "(102422, 8)"
      ]
     },
     "execution_count": 6,
     "metadata": {},
     "output_type": "execute_result"
    }
   ],
   "source": [
    "df.shape"
   ]
  },
  {
   "cell_type": "code",
   "execution_count": 7,
   "id": "6252b74f",
   "metadata": {},
   "outputs": [
    {
     "data": {
      "text/plain": [
       "anonymous_id           0\n",
       "business_zoned         0\n",
       "context_app_version    0\n",
       "context_device_id      0\n",
       "context_os_name        0\n",
       "event_name             0\n",
       "received_at            0\n",
       "created_at             0\n",
       "dtype: int64"
      ]
     },
     "execution_count": 7,
     "metadata": {},
     "output_type": "execute_result"
    }
   ],
   "source": [
    "df.isnull().sum()"
   ]
  },
  {
   "cell_type": "code",
   "execution_count": 8,
   "id": "100098eb",
   "metadata": {},
   "outputs": [
    {
     "data": {
      "text/html": [
       "<div>\n",
       "<style scoped>\n",
       "    .dataframe tbody tr th:only-of-type {\n",
       "        vertical-align: middle;\n",
       "    }\n",
       "\n",
       "    .dataframe tbody tr th {\n",
       "        vertical-align: top;\n",
       "    }\n",
       "\n",
       "    .dataframe thead th {\n",
       "        text-align: right;\n",
       "    }\n",
       "</style>\n",
       "<table border=\"1\" class=\"dataframe\">\n",
       "  <thead>\n",
       "    <tr style=\"text-align: right;\">\n",
       "      <th></th>\n",
       "      <th>anonymous_id</th>\n",
       "      <th>business_zoned</th>\n",
       "      <th>context_app_version</th>\n",
       "      <th>context_device_id</th>\n",
       "      <th>context_os_name</th>\n",
       "      <th>event_name</th>\n",
       "      <th>received_at</th>\n",
       "      <th>created_at</th>\n",
       "    </tr>\n",
       "  </thead>\n",
       "  <tbody>\n",
       "    <tr>\n",
       "      <th>count</th>\n",
       "      <td>102422</td>\n",
       "      <td>102422</td>\n",
       "      <td>102422</td>\n",
       "      <td>102422</td>\n",
       "      <td>102422</td>\n",
       "      <td>102422</td>\n",
       "      <td>102422</td>\n",
       "      <td>102422</td>\n",
       "    </tr>\n",
       "    <tr>\n",
       "      <th>unique</th>\n",
       "      <td>8629</td>\n",
       "      <td>1</td>\n",
       "      <td>9</td>\n",
       "      <td>8682</td>\n",
       "      <td>2</td>\n",
       "      <td>61</td>\n",
       "      <td>32612</td>\n",
       "      <td>51060</td>\n",
       "    </tr>\n",
       "    <tr>\n",
       "      <th>top</th>\n",
       "      <td>64C9AEA7-087E-4457-9597-2E8DF2D3BC75</td>\n",
       "      <td>Hamburg</td>\n",
       "      <td>3.1.13</td>\n",
       "      <td>6F9DAD30-EF9A-4F66-835F-75EC4CDD28EB</td>\n",
       "      <td>iOS</td>\n",
       "      <td>Application Opened</td>\n",
       "      <td>2020-09-01 11:21:10</td>\n",
       "      <td>2020-09-01 14:19:58</td>\n",
       "    </tr>\n",
       "    <tr>\n",
       "      <th>freq</th>\n",
       "      <td>201</td>\n",
       "      <td>102422</td>\n",
       "      <td>69625</td>\n",
       "      <td>201</td>\n",
       "      <td>72873</td>\n",
       "      <td>26047</td>\n",
       "      <td>91</td>\n",
       "      <td>12</td>\n",
       "    </tr>\n",
       "  </tbody>\n",
       "</table>\n",
       "</div>"
      ],
      "text/plain": [
       "                                anonymous_id business_zoned  \\\n",
       "count                                 102422         102422   \n",
       "unique                                  8629              1   \n",
       "top     64C9AEA7-087E-4457-9597-2E8DF2D3BC75        Hamburg   \n",
       "freq                                     201         102422   \n",
       "\n",
       "       context_app_version                     context_device_id  \\\n",
       "count               102422                                102422   \n",
       "unique                   9                                  8682   \n",
       "top                 3.1.13  6F9DAD30-EF9A-4F66-835F-75EC4CDD28EB   \n",
       "freq                 69625                                   201   \n",
       "\n",
       "       context_os_name          event_name          received_at  \\\n",
       "count           102422              102422               102422   \n",
       "unique               2                  61                32612   \n",
       "top                iOS  Application Opened  2020-09-01 11:21:10   \n",
       "freq             72873               26047                   91   \n",
       "\n",
       "                 created_at  \n",
       "count                102422  \n",
       "unique                51060  \n",
       "top     2020-09-01 14:19:58  \n",
       "freq                     12  "
      ]
     },
     "execution_count": 8,
     "metadata": {},
     "output_type": "execute_result"
    }
   ],
   "source": [
    "df.describe()"
   ]
  },
  {
   "cell_type": "code",
   "execution_count": 10,
   "id": "e624c36d",
   "metadata": {},
   "outputs": [
    {
     "data": {
      "text/plain": [
       "anonymous_id           object\n",
       "business_zoned         object\n",
       "context_app_version    object\n",
       "context_device_id      object\n",
       "context_os_name        object\n",
       "event_name             object\n",
       "received_at            object\n",
       "created_at             object\n",
       "dtype: object"
      ]
     },
     "execution_count": 10,
     "metadata": {},
     "output_type": "execute_result"
    }
   ],
   "source": [
    "df.dtypes"
   ]
  },
  {
   "cell_type": "code",
   "execution_count": null,
   "id": "44c11f65",
   "metadata": {},
   "outputs": [],
   "source": [
    "1. What is the % of sessions with an intention to book a scooter?\n",
    "\n",
    "Ans-1 As the data set is related to mobile events we can not tell the intention to book a scooter"
   ]
  },
  {
   "cell_type": "code",
   "execution_count": null,
   "id": "cbc4257d",
   "metadata": {},
   "outputs": [],
   "source": [
    "2. What is the % of sessions with a successful booking? \n",
    "\n",
    "Ans-2 cant be tell by analyzing the given data "
   ]
  },
  {
   "cell_type": "code",
   "execution_count": null,
   "id": "780dfa6a",
   "metadata": {},
   "outputs": [],
   "source": [
    "3. What determines, according to you, an intention to book?\n",
    "\n",
    "Ans-3 An intention to book can be determined by specific user actions or events that suggest a user's interest in booking a scooter. These actions might include:\n",
    "1. Searching for scooter availability in a location.\n",
    "2. Viewing scooter details and selecting a scooter type.\n",
    "3. Adding a scooter to a cart or starting the booking process.\n",
    "4. Entering payment information."
   ]
  },
  {
   "cell_type": "code",
   "execution_count": null,
   "id": "89c1c6a4",
   "metadata": {},
   "outputs": [],
   "source": [
    "4. What are factors, according to you, determining a successful booking? \n",
    "\n",
    "Ans-4 Factors that determine a successful booking typically include:\n",
    "\n",
    "1. Completing the booking process, including selecting a scooter, entering payment information, and confirming the booking.\n",
    "2. Receiving a booking confirmation.\n",
    "3. Payment processing and authorization.\n",
    "4. The scooter being successfully reserved for the user."
   ]
  },
  {
   "cell_type": "code",
   "execution_count": null,
   "id": "f0a0893f",
   "metadata": {},
   "outputs": [],
   "source": [
    "5. Do you have any hypotheses after exploring this data? If yes, please add them.\n",
    "\n",
    "Ans-5 "
   ]
  }
 ],
 "metadata": {
  "kernelspec": {
   "display_name": "Python 3 (ipykernel)",
   "language": "python",
   "name": "python3"
  },
  "language_info": {
   "codemirror_mode": {
    "name": "ipython",
    "version": 3
   },
   "file_extension": ".py",
   "mimetype": "text/x-python",
   "name": "python",
   "nbconvert_exporter": "python",
   "pygments_lexer": "ipython3",
   "version": "3.9.12"
  }
 },
 "nbformat": 4,
 "nbformat_minor": 5
}
